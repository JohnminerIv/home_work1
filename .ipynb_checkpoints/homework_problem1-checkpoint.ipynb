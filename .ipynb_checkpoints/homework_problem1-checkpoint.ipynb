{
 "cells": [
  {
   "cell_type": "code",
   "execution_count": 1,
   "metadata": {},
   "outputs": [],
   "source": [
    "import pandas as pd\n",
    "import numpy as np\n",
    "\n",
    "df = pd.read_csv('titanic.csv')"
   ]
  },
  {
   "cell_type": "code",
   "execution_count": 19,
   "metadata": {},
   "outputs": [
    {
     "name": "stdout",
     "output_type": "stream",
     "text": [
      "{0: 0, 65: 14, 35: 88, 5: 44, 70: 3, 40: 67, 10: 20, 75: 4, 45: 47, 15: 19, 50: 39, 20: 96, 55: 24, 25: 122, 60: 18, 30: 108}\n"
     ]
    }
   ],
   "source": [
    "def custom_hist(ls, interval):\n",
    "    hist_ls_dict = dict()\n",
    "    min_ls = int(np.min(ls))\n",
    "    max_ls = int(np.max(ls))\n",
    "    I = int(np.ceil((max_ls - min_ls) / interval))\n",
    "    for j in range(min_ls, max_ls, I):\n",
    "        hist_ls_dict[j] = len([i for i in ls if i > j-I and i <= j])     \n",
    "    return hist_ls_dict\n",
    "        \n",
    "print(custom_hist(df['Age'].dropna().values, 16))"
   ]
  },
  {
   "cell_type": "code",
   "execution_count": 20,
   "metadata": {},
   "outputs": [
    {
     "data": {
      "text/plain": [
       "<BarContainer object of 16 artists>"
      ]
     },
     "execution_count": 20,
     "metadata": {},
     "output_type": "execute_result"
    },
    {
     "data": {
      "image/png": "[encoded data removed]",
      "text/plain": [
       "<Figure size 432x288 with 1 Axes>"
      ]
     },
     "metadata": {
      "needs_background": "light"
     },
     "output_type": "display_data"
    }
   ],
   "source": [
    "import matplotlib.pyplot as plt\n",
    "\n",
    "hist_dict = custom_hist(df['Age'].dropna().values, 16)\n",
    "\n",
    "plt.bar(hist_dict.keys(), hist_dict.values())"
   ]
  },
  {
   "cell_type": "code",
   "execution_count": 51,
   "metadata": {},
   "outputs": [
    {
     "data": {
      "text/plain": [
       "Sex     Age  \n",
       "female  24.00    7\n",
       "        35.00    4\n",
       "        36.00    4\n",
       "        39.00    4\n",
       "        16.00    3\n",
       "        18.00    3\n",
       "        19.00    3\n",
       "        22.00    3\n",
       "        23.00    3\n",
       "        29.00    3\n",
       "        30.00    3\n",
       "        33.00    3\n",
       "        58.00    3\n",
       "        2.00     2\n",
       "        4.00     2\n",
       "        17.00    2\n",
       "        21.00    2\n",
       "        27.00    2\n",
       "        31.00    2\n",
       "        38.00    2\n",
       "        40.00    2\n",
       "        44.00    2\n",
       "        48.00    2\n",
       "        49.00    2\n",
       "        50.00    2\n",
       "        52.00    2\n",
       "        14.00    1\n",
       "        15.00    1\n",
       "        25.00    1\n",
       "        32.00    1\n",
       "                ..\n",
       "male    58.00    2\n",
       "        61.00    2\n",
       "        65.00    2\n",
       "        0.92     1\n",
       "        1.00     1\n",
       "        2.00     1\n",
       "        3.00     1\n",
       "        4.00     1\n",
       "        6.00     1\n",
       "        11.00    1\n",
       "        17.00    1\n",
       "        18.00    1\n",
       "        21.00    1\n",
       "        23.00    1\n",
       "        26.00    1\n",
       "        30.00    1\n",
       "        33.00    1\n",
       "        34.00    1\n",
       "        36.50    1\n",
       "        39.00    1\n",
       "        44.00    1\n",
       "        45.50    1\n",
       "        51.00    1\n",
       "        55.00    1\n",
       "        60.00    1\n",
       "        62.00    1\n",
       "        64.00    1\n",
       "        70.00    1\n",
       "        71.00    1\n",
       "        80.00    1\n",
       "Name: Age, Length: 95, dtype: int64"
      ]
     },
     "execution_count": 51,
     "metadata": {},
     "output_type": "execute_result"
    }
   ],
   "source": [
    "df.dropna().groupby(by='Sex')['Age'].value_counts()"
   ]
  },
  {
   "cell_type": "code",
   "execution_count": 41,
   "metadata": {},
   "outputs": [
    {
     "data": {
      "text/plain": [
       "<matplotlib.axes._subplots.AxesSubplot at 0x135e24710>"
      ]
     },
     "execution_count": 41,
     "metadata": {},
     "output_type": "execute_result"
    },
    {
     "data": {
      "image/png": "[encoded data removed]",
      "text/plain": [
       "<Figure size 432x288 with 1 Axes>"
      ]
     },
     "metadata": {
      "needs_background": "light"
     },
     "output_type": "display_data"
    }
   ],
   "source": [
    "import seaborn as sns\n",
    "df.groupby(by='Sex')['Age'].value_counts().plot()"
   ]
  },
  {
   "cell_type": "code",
   "execution_count": 55,
   "metadata": {},
   "outputs": [
    {
     "data": {
      "text/plain": [
       "<matplotlib.axes._subplots.AxesSubplot at 0x1364c64d0>"
      ]
     },
     "execution_count": 55,
     "metadata": {},
     "output_type": "execute_result"
    },
    {
     "data": {
      "image/png": "[encoded data removed]",
      "text/plain": [
       "<Figure size 432x288 with 1 Axes>"
      ]
     },
     "metadata": {
      "needs_background": "light"
     },
     "output_type": "display_data"
    }
   ],
   "source": [
    "sns.barplot(df.groupby(by='Sex')['Age'].value_counts(),)"
   ]
  },
  {
   "cell_type": "code",
   "execution_count": null,
   "metadata": {},
   "outputs": [],
   "source": []
  }
 ],
 "metadata": {
  "kernelspec": {
   "display_name": "ds_env",
   "language": "python",
   "name": "ds_env"
  },
  "language_info": {
   "codemirror_mode": {
    "name": "ipython",
    "version": 2
   },
   "file_extension": ".py",
   "mimetype": "text/x-python",
   "name": "python",
   "nbconvert_exporter": "python",
   "pygments_lexer": "ipython2",
   "version": "2.7.16"
  }
 },
 "nbformat": 4,
 "nbformat_minor": 2
}
